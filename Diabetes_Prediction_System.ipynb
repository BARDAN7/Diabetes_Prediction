{
 "cells": [
  {
   "cell_type": "markdown",
   "id": "6ab36b94-b2e7-4e9d-befe-1f0e1abc8167",
   "metadata": {},
   "source": [
    "# Importing Datas"
   ]
  },
  {
   "cell_type": "code",
   "execution_count": 1,
   "id": "68e57479-395a-4dd2-b64c-f4d0f87de6ee",
   "metadata": {},
   "outputs": [],
   "source": [
    "import numpy as np\n",
    "import pandas as pd\n",
    "import matplotlib.pyplot as plt\n",
    "import seaborn as sns"
   ]
  },
  {
   "cell_type": "markdown",
   "id": "b1662d23-e3c5-4c3f-a2b3-1f98595b938a",
   "metadata": {},
   "source": [
    "# Loading dataset"
   ]
  },
  {
   "cell_type": "code",
   "execution_count": 2,
   "id": "08437f8b-55b3-4077-9839-fbf204925785",
   "metadata": {},
   "outputs": [
    {
     "data": {
      "text/html": [
       "<div>\n",
       "<style scoped>\n",
       "    .dataframe tbody tr th:only-of-type {\n",
       "        vertical-align: middle;\n",
       "    }\n",
       "\n",
       "    .dataframe tbody tr th {\n",
       "        vertical-align: top;\n",
       "    }\n",
       "\n",
       "    .dataframe thead th {\n",
       "        text-align: right;\n",
       "    }\n",
       "</style>\n",
       "<table border=\"1\" class=\"dataframe\">\n",
       "  <thead>\n",
       "    <tr style=\"text-align: right;\">\n",
       "      <th></th>\n",
       "      <th>gender</th>\n",
       "      <th>age</th>\n",
       "      <th>hypertension</th>\n",
       "      <th>heart_disease</th>\n",
       "      <th>smoking_history</th>\n",
       "      <th>bmi</th>\n",
       "      <th>HbA1c_level</th>\n",
       "      <th>blood_glucose_level</th>\n",
       "      <th>diabetes</th>\n",
       "    </tr>\n",
       "  </thead>\n",
       "  <tbody>\n",
       "    <tr>\n",
       "      <th>0</th>\n",
       "      <td>Female</td>\n",
       "      <td>80.0</td>\n",
       "      <td>0</td>\n",
       "      <td>1</td>\n",
       "      <td>never</td>\n",
       "      <td>25.19</td>\n",
       "      <td>6.6</td>\n",
       "      <td>140</td>\n",
       "      <td>0</td>\n",
       "    </tr>\n",
       "    <tr>\n",
       "      <th>1</th>\n",
       "      <td>Female</td>\n",
       "      <td>54.0</td>\n",
       "      <td>0</td>\n",
       "      <td>0</td>\n",
       "      <td>No Info</td>\n",
       "      <td>27.32</td>\n",
       "      <td>6.6</td>\n",
       "      <td>80</td>\n",
       "      <td>0</td>\n",
       "    </tr>\n",
       "    <tr>\n",
       "      <th>2</th>\n",
       "      <td>Male</td>\n",
       "      <td>28.0</td>\n",
       "      <td>0</td>\n",
       "      <td>0</td>\n",
       "      <td>never</td>\n",
       "      <td>27.32</td>\n",
       "      <td>5.7</td>\n",
       "      <td>158</td>\n",
       "      <td>0</td>\n",
       "    </tr>\n",
       "    <tr>\n",
       "      <th>3</th>\n",
       "      <td>Female</td>\n",
       "      <td>36.0</td>\n",
       "      <td>0</td>\n",
       "      <td>0</td>\n",
       "      <td>current</td>\n",
       "      <td>23.45</td>\n",
       "      <td>5.0</td>\n",
       "      <td>155</td>\n",
       "      <td>0</td>\n",
       "    </tr>\n",
       "    <tr>\n",
       "      <th>4</th>\n",
       "      <td>Male</td>\n",
       "      <td>76.0</td>\n",
       "      <td>1</td>\n",
       "      <td>1</td>\n",
       "      <td>current</td>\n",
       "      <td>20.14</td>\n",
       "      <td>4.8</td>\n",
       "      <td>155</td>\n",
       "      <td>0</td>\n",
       "    </tr>\n",
       "    <tr>\n",
       "      <th>5</th>\n",
       "      <td>Female</td>\n",
       "      <td>20.0</td>\n",
       "      <td>0</td>\n",
       "      <td>0</td>\n",
       "      <td>never</td>\n",
       "      <td>27.32</td>\n",
       "      <td>6.6</td>\n",
       "      <td>85</td>\n",
       "      <td>0</td>\n",
       "    </tr>\n",
       "    <tr>\n",
       "      <th>6</th>\n",
       "      <td>Female</td>\n",
       "      <td>44.0</td>\n",
       "      <td>0</td>\n",
       "      <td>0</td>\n",
       "      <td>never</td>\n",
       "      <td>19.31</td>\n",
       "      <td>6.5</td>\n",
       "      <td>200</td>\n",
       "      <td>1</td>\n",
       "    </tr>\n",
       "    <tr>\n",
       "      <th>7</th>\n",
       "      <td>Female</td>\n",
       "      <td>79.0</td>\n",
       "      <td>0</td>\n",
       "      <td>0</td>\n",
       "      <td>No Info</td>\n",
       "      <td>23.86</td>\n",
       "      <td>5.7</td>\n",
       "      <td>85</td>\n",
       "      <td>0</td>\n",
       "    </tr>\n",
       "    <tr>\n",
       "      <th>8</th>\n",
       "      <td>Male</td>\n",
       "      <td>42.0</td>\n",
       "      <td>0</td>\n",
       "      <td>0</td>\n",
       "      <td>never</td>\n",
       "      <td>33.64</td>\n",
       "      <td>4.8</td>\n",
       "      <td>145</td>\n",
       "      <td>0</td>\n",
       "    </tr>\n",
       "  </tbody>\n",
       "</table>\n",
       "</div>"
      ],
      "text/plain": [
       "   gender   age  hypertension  heart_disease smoking_history    bmi  \\\n",
       "0  Female  80.0             0              1           never  25.19   \n",
       "1  Female  54.0             0              0         No Info  27.32   \n",
       "2    Male  28.0             0              0           never  27.32   \n",
       "3  Female  36.0             0              0         current  23.45   \n",
       "4    Male  76.0             1              1         current  20.14   \n",
       "5  Female  20.0             0              0           never  27.32   \n",
       "6  Female  44.0             0              0           never  19.31   \n",
       "7  Female  79.0             0              0         No Info  23.86   \n",
       "8    Male  42.0             0              0           never  33.64   \n",
       "\n",
       "   HbA1c_level  blood_glucose_level  diabetes  \n",
       "0          6.6                  140         0  \n",
       "1          6.6                   80         0  \n",
       "2          5.7                  158         0  \n",
       "3          5.0                  155         0  \n",
       "4          4.8                  155         0  \n",
       "5          6.6                   85         0  \n",
       "6          6.5                  200         1  \n",
       "7          5.7                   85         0  \n",
       "8          4.8                  145         0  "
      ]
     },
     "execution_count": 2,
     "metadata": {},
     "output_type": "execute_result"
    }
   ],
   "source": [
    "df=pd.read_csv('diabetes_prediction_dataset.csv')\n",
    "df.head(9)"
   ]
  },
  {
   "cell_type": "code",
   "execution_count": 26,
   "id": "d18ca28e-4fc6-4826-80ed-e7ebdc71b8c8",
   "metadata": {},
   "outputs": [
    {
     "data": {
      "text/plain": [
       "diabetes\n",
       "0    87664\n",
       "1     8482\n",
       "Name: count, dtype: int64"
      ]
     },
     "execution_count": 26,
     "metadata": {},
     "output_type": "execute_result"
    }
   ],
   "source": [
    "df['diabetes'].value_counts()"
   ]
  },
  {
   "cell_type": "code",
   "execution_count": 3,
   "id": "5863f437-4237-4e4a-bd30-6f272bff9407",
   "metadata": {},
   "outputs": [
    {
     "name": "stdout",
     "output_type": "stream",
     "text": [
      "[0 1]\n",
      "['Female' 'Male' 'Other']\n",
      "[1 0]\n",
      "['never' 'No Info' 'current' 'former' 'ever' 'not current']\n",
      "[25.19 27.32 23.45 ... 59.42 44.39 60.52]\n",
      "[6.6 5.7 5.  4.8 6.5 6.1 6.  5.8 3.5 6.2 4.  4.5 9.  7.  8.8 8.2 7.5 6.8]\n",
      "[140  80 158 155  85 200 145 100 130 160 126 159  90 260 220 300 280 240]\n"
     ]
    }
   ],
   "source": [
    "# Checking Unique datas in each features.\n",
    "print(df['hypertension'].unique())\n",
    "print(df['gender'].unique())\n",
    "print(df['heart_disease'].unique())\n",
    "print(df['smoking_history'].unique())\n",
    "print(df['bmi'].unique())\n",
    "print(df['HbA1c_level'].unique())\n",
    "print(df['blood_glucose_level'].unique())"
   ]
  },
  {
   "cell_type": "markdown",
   "id": "2fd9568f-aa27-4f28-b731-cdc356cde606",
   "metadata": {},
   "source": [
    "# EDA dataset"
   ]
  },
  {
   "cell_type": "code",
   "execution_count": 4,
   "id": "71aad405-799a-41b9-8c9d-75ac99db5581",
   "metadata": {},
   "outputs": [
    {
     "name": "stdout",
     "output_type": "stream",
     "text": [
      "<class 'pandas.core.frame.DataFrame'>\n",
      "RangeIndex: 100000 entries, 0 to 99999\n",
      "Data columns (total 9 columns):\n",
      " #   Column               Non-Null Count   Dtype  \n",
      "---  ------               --------------   -----  \n",
      " 0   gender               100000 non-null  object \n",
      " 1   age                  100000 non-null  float64\n",
      " 2   hypertension         100000 non-null  int64  \n",
      " 3   heart_disease        100000 non-null  int64  \n",
      " 4   smoking_history      100000 non-null  object \n",
      " 5   bmi                  100000 non-null  float64\n",
      " 6   HbA1c_level          100000 non-null  float64\n",
      " 7   blood_glucose_level  100000 non-null  int64  \n",
      " 8   diabetes             100000 non-null  int64  \n",
      "dtypes: float64(3), int64(4), object(2)\n",
      "memory usage: 6.9+ MB\n"
     ]
    }
   ],
   "source": [
    "df.info()"
   ]
  },
  {
   "cell_type": "code",
   "execution_count": 5,
   "id": "348b5b0d-abd8-4e50-a5e0-c6fad412af61",
   "metadata": {},
   "outputs": [
    {
     "data": {
      "text/html": [
       "<div>\n",
       "<style scoped>\n",
       "    .dataframe tbody tr th:only-of-type {\n",
       "        vertical-align: middle;\n",
       "    }\n",
       "\n",
       "    .dataframe tbody tr th {\n",
       "        vertical-align: top;\n",
       "    }\n",
       "\n",
       "    .dataframe thead th {\n",
       "        text-align: right;\n",
       "    }\n",
       "</style>\n",
       "<table border=\"1\" class=\"dataframe\">\n",
       "  <thead>\n",
       "    <tr style=\"text-align: right;\">\n",
       "      <th></th>\n",
       "      <th>age</th>\n",
       "      <th>hypertension</th>\n",
       "      <th>heart_disease</th>\n",
       "      <th>bmi</th>\n",
       "      <th>HbA1c_level</th>\n",
       "      <th>blood_glucose_level</th>\n",
       "      <th>diabetes</th>\n",
       "    </tr>\n",
       "  </thead>\n",
       "  <tbody>\n",
       "    <tr>\n",
       "      <th>count</th>\n",
       "      <td>100000.000000</td>\n",
       "      <td>100000.00000</td>\n",
       "      <td>100000.000000</td>\n",
       "      <td>100000.000000</td>\n",
       "      <td>100000.000000</td>\n",
       "      <td>100000.000000</td>\n",
       "      <td>100000.000000</td>\n",
       "    </tr>\n",
       "    <tr>\n",
       "      <th>mean</th>\n",
       "      <td>41.885856</td>\n",
       "      <td>0.07485</td>\n",
       "      <td>0.039420</td>\n",
       "      <td>27.320767</td>\n",
       "      <td>5.527507</td>\n",
       "      <td>138.058060</td>\n",
       "      <td>0.085000</td>\n",
       "    </tr>\n",
       "    <tr>\n",
       "      <th>std</th>\n",
       "      <td>22.516840</td>\n",
       "      <td>0.26315</td>\n",
       "      <td>0.194593</td>\n",
       "      <td>6.636783</td>\n",
       "      <td>1.070672</td>\n",
       "      <td>40.708136</td>\n",
       "      <td>0.278883</td>\n",
       "    </tr>\n",
       "    <tr>\n",
       "      <th>min</th>\n",
       "      <td>0.080000</td>\n",
       "      <td>0.00000</td>\n",
       "      <td>0.000000</td>\n",
       "      <td>10.010000</td>\n",
       "      <td>3.500000</td>\n",
       "      <td>80.000000</td>\n",
       "      <td>0.000000</td>\n",
       "    </tr>\n",
       "    <tr>\n",
       "      <th>25%</th>\n",
       "      <td>24.000000</td>\n",
       "      <td>0.00000</td>\n",
       "      <td>0.000000</td>\n",
       "      <td>23.630000</td>\n",
       "      <td>4.800000</td>\n",
       "      <td>100.000000</td>\n",
       "      <td>0.000000</td>\n",
       "    </tr>\n",
       "    <tr>\n",
       "      <th>50%</th>\n",
       "      <td>43.000000</td>\n",
       "      <td>0.00000</td>\n",
       "      <td>0.000000</td>\n",
       "      <td>27.320000</td>\n",
       "      <td>5.800000</td>\n",
       "      <td>140.000000</td>\n",
       "      <td>0.000000</td>\n",
       "    </tr>\n",
       "    <tr>\n",
       "      <th>75%</th>\n",
       "      <td>60.000000</td>\n",
       "      <td>0.00000</td>\n",
       "      <td>0.000000</td>\n",
       "      <td>29.580000</td>\n",
       "      <td>6.200000</td>\n",
       "      <td>159.000000</td>\n",
       "      <td>0.000000</td>\n",
       "    </tr>\n",
       "    <tr>\n",
       "      <th>max</th>\n",
       "      <td>80.000000</td>\n",
       "      <td>1.00000</td>\n",
       "      <td>1.000000</td>\n",
       "      <td>95.690000</td>\n",
       "      <td>9.000000</td>\n",
       "      <td>300.000000</td>\n",
       "      <td>1.000000</td>\n",
       "    </tr>\n",
       "  </tbody>\n",
       "</table>\n",
       "</div>"
      ],
      "text/plain": [
       "                 age  hypertension  heart_disease            bmi  \\\n",
       "count  100000.000000  100000.00000  100000.000000  100000.000000   \n",
       "mean       41.885856       0.07485       0.039420      27.320767   \n",
       "std        22.516840       0.26315       0.194593       6.636783   \n",
       "min         0.080000       0.00000       0.000000      10.010000   \n",
       "25%        24.000000       0.00000       0.000000      23.630000   \n",
       "50%        43.000000       0.00000       0.000000      27.320000   \n",
       "75%        60.000000       0.00000       0.000000      29.580000   \n",
       "max        80.000000       1.00000       1.000000      95.690000   \n",
       "\n",
       "         HbA1c_level  blood_glucose_level       diabetes  \n",
       "count  100000.000000        100000.000000  100000.000000  \n",
       "mean        5.527507           138.058060       0.085000  \n",
       "std         1.070672            40.708136       0.278883  \n",
       "min         3.500000            80.000000       0.000000  \n",
       "25%         4.800000           100.000000       0.000000  \n",
       "50%         5.800000           140.000000       0.000000  \n",
       "75%         6.200000           159.000000       0.000000  \n",
       "max         9.000000           300.000000       1.000000  "
      ]
     },
     "execution_count": 5,
     "metadata": {},
     "output_type": "execute_result"
    }
   ],
   "source": [
    "df.describe()"
   ]
  },
  {
   "cell_type": "code",
   "execution_count": 6,
   "id": "6b423320-56fa-422e-94d1-d75eef5af5c3",
   "metadata": {},
   "outputs": [
    {
     "data": {
      "text/plain": [
       "Index(['gender', 'age', 'hypertension', 'heart_disease', 'smoking_history',\n",
       "       'bmi', 'HbA1c_level', 'blood_glucose_level', 'diabetes'],\n",
       "      dtype='object')"
      ]
     },
     "execution_count": 6,
     "metadata": {},
     "output_type": "execute_result"
    }
   ],
   "source": [
    "df.columns"
   ]
  },
  {
   "cell_type": "code",
   "execution_count": 7,
   "id": "841f8540-b592-466a-9d31-5bf192e40d5b",
   "metadata": {},
   "outputs": [
    {
     "data": {
      "text/plain": [
       "gender                 0\n",
       "age                    0\n",
       "hypertension           0\n",
       "heart_disease          0\n",
       "smoking_history        0\n",
       "bmi                    0\n",
       "HbA1c_level            0\n",
       "blood_glucose_level    0\n",
       "diabetes               0\n",
       "dtype: int64"
      ]
     },
     "execution_count": 7,
     "metadata": {},
     "output_type": "execute_result"
    }
   ],
   "source": [
    "# Checking null values\n",
    "df.isnull().sum()"
   ]
  },
  {
   "cell_type": "code",
   "execution_count": 8,
   "id": "ef079285-d70b-49f0-a9ac-92d1768a710a",
   "metadata": {},
   "outputs": [
    {
     "data": {
      "text/plain": [
       "3854"
      ]
     },
     "execution_count": 8,
     "metadata": {},
     "output_type": "execute_result"
    }
   ],
   "source": [
    "# Checking duplicates\n",
    "df.duplicated().sum()"
   ]
  },
  {
   "cell_type": "code",
   "execution_count": 9,
   "id": "b11f1293-9396-4b0e-8856-8a00398e8aa7",
   "metadata": {},
   "outputs": [],
   "source": [
    "# Removing Duplicate Data\n",
    "df=df.drop_duplicates()"
   ]
  },
  {
   "cell_type": "code",
   "execution_count": 10,
   "id": "a518972c-8c2a-4161-b5a9-89343a2073d1",
   "metadata": {},
   "outputs": [
    {
     "data": {
      "text/plain": [
       "0"
      ]
     },
     "execution_count": 10,
     "metadata": {},
     "output_type": "execute_result"
    }
   ],
   "source": [
    "df.duplicated().sum()"
   ]
  },
  {
   "cell_type": "code",
   "execution_count": 11,
   "id": "c6164256-e477-4c64-8a1c-f9b2adc43870",
   "metadata": {},
   "outputs": [
    {
     "data": {
      "text/plain": [
       "gender                  object\n",
       "age                    float64\n",
       "hypertension             int64\n",
       "heart_disease            int64\n",
       "smoking_history         object\n",
       "bmi                    float64\n",
       "HbA1c_level            float64\n",
       "blood_glucose_level      int64\n",
       "diabetes                 int64\n",
       "dtype: object"
      ]
     },
     "execution_count": 11,
     "metadata": {},
     "output_type": "execute_result"
    }
   ],
   "source": [
    "df.dtypes"
   ]
  },
  {
   "cell_type": "code",
   "execution_count": 12,
   "id": "de473aa4-8a6d-46bc-b535-81b5a0f06081",
   "metadata": {
    "scrolled": true
   },
   "outputs": [],
   "source": [
    "# Categorical data means data which is note numerical and which is the term of some category such as male/female etc\n",
    "categorical_data=['gender','smoking_history']"
   ]
  },
  {
   "cell_type": "code",
   "execution_count": 13,
   "id": "f19462c2-b8b7-4ffc-ac2f-9a9699baccbe",
   "metadata": {},
   "outputs": [],
   "source": [
    "# Quantitative data means numerical datas\n",
    "for x in categorical_data:\n",
    "    quantitive_data=df.drop(columns={x})"
   ]
  },
  {
   "cell_type": "markdown",
   "id": "682c941a-d6cb-4d10-87a6-46490df3aa71",
   "metadata": {},
   "source": [
    "# Pre-Processing"
   ]
  },
  {
   "cell_type": "code",
   "execution_count": 14,
   "id": "4485bb73-bff0-46b6-acd3-c025e044c860",
   "metadata": {},
   "outputs": [],
   "source": [
    "# Encoding the categorical data as machine can only be train with numeric datas.\n",
    "from sklearn.preprocessing import LabelEncoder\n",
    "le=LabelEncoder()\n",
    "for i in categorical_data:\n",
    "    df.loc[:,i]=le.fit_transform(df.loc[:,i])"
   ]
  },
  {
   "cell_type": "code",
   "execution_count": 15,
   "id": "83245719-ed66-4700-bc1b-e19428995359",
   "metadata": {},
   "outputs": [
    {
     "name": "stdout",
     "output_type": "stream",
     "text": [
      "<class 'pandas.core.frame.DataFrame'>\n",
      "Index: 96146 entries, 0 to 99999\n",
      "Data columns (total 9 columns):\n",
      " #   Column               Non-Null Count  Dtype  \n",
      "---  ------               --------------  -----  \n",
      " 0   gender               96146 non-null  object \n",
      " 1   age                  96146 non-null  float64\n",
      " 2   hypertension         96146 non-null  int64  \n",
      " 3   heart_disease        96146 non-null  int64  \n",
      " 4   smoking_history      96146 non-null  object \n",
      " 5   bmi                  96146 non-null  float64\n",
      " 6   HbA1c_level          96146 non-null  float64\n",
      " 7   blood_glucose_level  96146 non-null  int64  \n",
      " 8   diabetes             96146 non-null  int64  \n",
      "dtypes: float64(3), int64(4), object(2)\n",
      "memory usage: 7.3+ MB\n"
     ]
    }
   ],
   "source": [
    "df.info()"
   ]
  },
  {
   "cell_type": "code",
   "execution_count": 16,
   "id": "6cc1efdb-efac-4ba8-a41a-337cbbccb77b",
   "metadata": {},
   "outputs": [],
   "source": [
    "# Converting datatype of categorical datas into integer as they are object data type.\n",
    "df[categorical_data]=df[categorical_data].astype('int')"
   ]
  },
  {
   "cell_type": "code",
   "execution_count": 17,
   "id": "e51e29e7-78fa-4d56-b189-0a75076eb976",
   "metadata": {},
   "outputs": [
    {
     "data": {
      "text/html": [
       "<div>\n",
       "<style scoped>\n",
       "    .dataframe tbody tr th:only-of-type {\n",
       "        vertical-align: middle;\n",
       "    }\n",
       "\n",
       "    .dataframe tbody tr th {\n",
       "        vertical-align: top;\n",
       "    }\n",
       "\n",
       "    .dataframe thead th {\n",
       "        text-align: right;\n",
       "    }\n",
       "</style>\n",
       "<table border=\"1\" class=\"dataframe\">\n",
       "  <thead>\n",
       "    <tr style=\"text-align: right;\">\n",
       "      <th></th>\n",
       "      <th>gender</th>\n",
       "      <th>age</th>\n",
       "      <th>hypertension</th>\n",
       "      <th>heart_disease</th>\n",
       "      <th>smoking_history</th>\n",
       "      <th>bmi</th>\n",
       "      <th>HbA1c_level</th>\n",
       "      <th>blood_glucose_level</th>\n",
       "      <th>diabetes</th>\n",
       "    </tr>\n",
       "  </thead>\n",
       "  <tbody>\n",
       "    <tr>\n",
       "      <th>0</th>\n",
       "      <td>0</td>\n",
       "      <td>80.0</td>\n",
       "      <td>0</td>\n",
       "      <td>1</td>\n",
       "      <td>4</td>\n",
       "      <td>25.19</td>\n",
       "      <td>6.6</td>\n",
       "      <td>140</td>\n",
       "      <td>0</td>\n",
       "    </tr>\n",
       "    <tr>\n",
       "      <th>1</th>\n",
       "      <td>0</td>\n",
       "      <td>54.0</td>\n",
       "      <td>0</td>\n",
       "      <td>0</td>\n",
       "      <td>0</td>\n",
       "      <td>27.32</td>\n",
       "      <td>6.6</td>\n",
       "      <td>80</td>\n",
       "      <td>0</td>\n",
       "    </tr>\n",
       "    <tr>\n",
       "      <th>2</th>\n",
       "      <td>1</td>\n",
       "      <td>28.0</td>\n",
       "      <td>0</td>\n",
       "      <td>0</td>\n",
       "      <td>4</td>\n",
       "      <td>27.32</td>\n",
       "      <td>5.7</td>\n",
       "      <td>158</td>\n",
       "      <td>0</td>\n",
       "    </tr>\n",
       "    <tr>\n",
       "      <th>3</th>\n",
       "      <td>0</td>\n",
       "      <td>36.0</td>\n",
       "      <td>0</td>\n",
       "      <td>0</td>\n",
       "      <td>1</td>\n",
       "      <td>23.45</td>\n",
       "      <td>5.0</td>\n",
       "      <td>155</td>\n",
       "      <td>0</td>\n",
       "    </tr>\n",
       "    <tr>\n",
       "      <th>4</th>\n",
       "      <td>1</td>\n",
       "      <td>76.0</td>\n",
       "      <td>1</td>\n",
       "      <td>1</td>\n",
       "      <td>1</td>\n",
       "      <td>20.14</td>\n",
       "      <td>4.8</td>\n",
       "      <td>155</td>\n",
       "      <td>0</td>\n",
       "    </tr>\n",
       "    <tr>\n",
       "      <th>5</th>\n",
       "      <td>0</td>\n",
       "      <td>20.0</td>\n",
       "      <td>0</td>\n",
       "      <td>0</td>\n",
       "      <td>4</td>\n",
       "      <td>27.32</td>\n",
       "      <td>6.6</td>\n",
       "      <td>85</td>\n",
       "      <td>0</td>\n",
       "    </tr>\n",
       "    <tr>\n",
       "      <th>6</th>\n",
       "      <td>0</td>\n",
       "      <td>44.0</td>\n",
       "      <td>0</td>\n",
       "      <td>0</td>\n",
       "      <td>4</td>\n",
       "      <td>19.31</td>\n",
       "      <td>6.5</td>\n",
       "      <td>200</td>\n",
       "      <td>1</td>\n",
       "    </tr>\n",
       "    <tr>\n",
       "      <th>7</th>\n",
       "      <td>0</td>\n",
       "      <td>79.0</td>\n",
       "      <td>0</td>\n",
       "      <td>0</td>\n",
       "      <td>0</td>\n",
       "      <td>23.86</td>\n",
       "      <td>5.7</td>\n",
       "      <td>85</td>\n",
       "      <td>0</td>\n",
       "    </tr>\n",
       "    <tr>\n",
       "      <th>8</th>\n",
       "      <td>1</td>\n",
       "      <td>42.0</td>\n",
       "      <td>0</td>\n",
       "      <td>0</td>\n",
       "      <td>4</td>\n",
       "      <td>33.64</td>\n",
       "      <td>4.8</td>\n",
       "      <td>145</td>\n",
       "      <td>0</td>\n",
       "    </tr>\n",
       "  </tbody>\n",
       "</table>\n",
       "</div>"
      ],
      "text/plain": [
       "   gender   age  hypertension  heart_disease  smoking_history    bmi  \\\n",
       "0       0  80.0             0              1                4  25.19   \n",
       "1       0  54.0             0              0                0  27.32   \n",
       "2       1  28.0             0              0                4  27.32   \n",
       "3       0  36.0             0              0                1  23.45   \n",
       "4       1  76.0             1              1                1  20.14   \n",
       "5       0  20.0             0              0                4  27.32   \n",
       "6       0  44.0             0              0                4  19.31   \n",
       "7       0  79.0             0              0                0  23.86   \n",
       "8       1  42.0             0              0                4  33.64   \n",
       "\n",
       "   HbA1c_level  blood_glucose_level  diabetes  \n",
       "0          6.6                  140         0  \n",
       "1          6.6                   80         0  \n",
       "2          5.7                  158         0  \n",
       "3          5.0                  155         0  \n",
       "4          4.8                  155         0  \n",
       "5          6.6                   85         0  \n",
       "6          6.5                  200         1  \n",
       "7          5.7                   85         0  \n",
       "8          4.8                  145         0  "
      ]
     },
     "execution_count": 17,
     "metadata": {},
     "output_type": "execute_result"
    }
   ],
   "source": [
    "df.head(9)"
   ]
  },
  {
   "cell_type": "code",
   "execution_count": 18,
   "id": "1726d766-db62-4ec5-a46d-cf652189f559",
   "metadata": {},
   "outputs": [
    {
     "data": {
      "image/png": "[encoded data removed]",
      "text/plain": [
       "<Figure size 640x480 with 2 Axes>"
      ]
     },
     "metadata": {},
     "output_type": "display_data"
    }
   ],
   "source": [
    "# plotting heatmap to see correlation between features\n",
    "sns.heatmap(data=df.corr(),annot=True)\n",
    "plt.show()"
   ]
  },
  {
   "cell_type": "code",
   "execution_count": 19,
   "id": "fa13e740",
   "metadata": {},
   "outputs": [],
   "source": [
    "# As we can see diabetes is mostly affected by blood glucose level and HbA1c Level."
   ]
  },
  {
   "cell_type": "code",
   "execution_count": 20,
   "id": "21fe3744-e3e3-4a4c-8ec4-019c2a803ce5",
   "metadata": {
    "scrolled": true
   },
   "outputs": [
    {
     "data": {
      "image/png": "[encoded data removed]",
      "text/plain": [
       "<Figure size 2000x2000 with 8 Axes>"
      ]
     },
     "metadata": {},
     "output_type": "display_data"
    }
   ],
   "source": [
    "# Cheking if our data contains outliers.\n",
    "x=df.drop(columns={'diabetes'})\n",
    "y=df['diabetes']\n",
    "# Checking Outliers\n",
    "j=1\n",
    "plt.figure(figsize=(20,20))\n",
    "for i in x:\n",
    "    plt.subplot(4,3,j)\n",
    "    sns.boxplot(y=i,data=df)\n",
    "    plt.xticks(rotation=90)\n",
    "    j+=1\n",
    "plt.show()"
   ]
  },
  {
   "cell_type": "code",
   "execution_count": 21,
   "id": "77534fd4-fbfd-4f4e-a1bf-cf84de0bf72c",
   "metadata": {},
   "outputs": [],
   "source": [
    "features=df.drop(columns={'diabetes','hypertension','heart_disease'},axis=1)"
   ]
  },
  {
   "cell_type": "code",
   "execution_count": 22,
   "id": "8c868e63-c0b3-4f34-a7c5-35e5a220484e",
   "metadata": {},
   "outputs": [],
   "source": [
    "# capping to outliers to remove them.\n",
    "def cap_outliers(df,columns):\n",
    "    q1=df[columns].quantile(0.25)\n",
    "    q3=df[columns].quantile(0.75)\n",
    "    IQR=q3-q1\n",
    "    lb=q1-1.5*IQR\n",
    "    ub=q3+1.5*IQR\n",
    "    df[columns]=df[columns].apply(lambda a : lb if a<lb else ub if a>ub else a)\n",
    "    return df\n",
    "for column in features:\n",
    "    df=cap_outliers(df,column)"
   ]
  },
  {
   "cell_type": "code",
   "execution_count": 23,
   "id": "2058ece2-9cb3-4a39-abf0-cceb22210aa3",
   "metadata": {
    "scrolled": true
   },
   "outputs": [
    {
     "data": {
      "image/png": "[encoded data removed]",
      "text/plain": [
       "<Figure size 2000x2000 with 8 Axes>"
      ]
     },
     "metadata": {},
     "output_type": "display_data"
    }
   ],
   "source": [
    "# box plot to check if any outliers remains\n",
    "j=1\n",
    "plt.figure(figsize=(20,20))\n",
    "for i in x:\n",
    "    plt.subplot(4,3,j)\n",
    "    sns.boxplot(y=i,data=df)\n",
    "    plt.xticks(rotation=90)\n",
    "    j+=1\n",
    "plt.show()"
   ]
  },
  {
   "cell_type": "code",
   "execution_count": 24,
   "id": "44822cca-9161-4ae7-b8d1-27eb54696505",
   "metadata": {},
   "outputs": [
    {
     "data": {
      "text/plain": [
       "(96146, 9)"
      ]
     },
     "execution_count": 24,
     "metadata": {},
     "output_type": "execute_result"
    }
   ],
   "source": [
    "# Checking size of df after removing outliers\n",
    "df.shape"
   ]
  },
  {
   "cell_type": "code",
   "execution_count": 27,
   "id": "3f7b22b7-a14b-4f6b-8554-03c152de251e",
   "metadata": {},
   "outputs": [],
   "source": [
    "# Spliting the data set into 2 parts , test data ana\n",
    "from sklearn.model_selection import train_test_split\n",
    "x=df.drop(columns={'diabetes'})\n",
    "x_train,x_test,y_train,y_test=train_test_split(x,y,test_size=0.2,stratify=y,random_state=42) \n",
    "# as our data contains 10% diabetic and 90 % non-diabetic so while splitting data there may\n",
    "#  be imbalance such as x_train may contain all non diabetic and only 1 diabetic data. \n",
    "# so if we use stratify=y it will split data such that diabetic is 10% and non diabetic is 90%"
   ]
  },
  {
   "cell_type": "code",
   "execution_count": 28,
   "id": "bf200a2d-bcf4-436e-8b65-dcaf33928cfb",
   "metadata": {},
   "outputs": [
    {
     "data": {
      "text/plain": [
       "(76916, 8)"
      ]
     },
     "execution_count": 28,
     "metadata": {},
     "output_type": "execute_result"
    }
   ],
   "source": [
    "x_train.shape"
   ]
  },
  {
   "cell_type": "code",
   "execution_count": 29,
   "id": "ab6911ec-c160-44dd-8815-6cf4cf7a2dc7",
   "metadata": {},
   "outputs": [
    {
     "data": {
      "text/plain": [
       "(19230,)"
      ]
     },
     "execution_count": 29,
     "metadata": {},
     "output_type": "execute_result"
    }
   ],
   "source": [
    "y_test.shape"
   ]
  },
  {
   "cell_type": "code",
   "execution_count": 30,
   "id": "e2d4f98a-8aa1-4af7-9b3c-4efe0648b60f",
   "metadata": {
    "scrolled": true
   },
   "outputs": [
    {
     "data": {
      "text/plain": [
       "diabetes\n",
       "0    70130\n",
       "1     6786\n",
       "Name: count, dtype: int64"
      ]
     },
     "execution_count": 30,
     "metadata": {},
     "output_type": "execute_result"
    }
   ],
   "source": [
    "y_train.value_counts()"
   ]
  },
  {
   "cell_type": "markdown",
   "id": "7841bd50-0ec0-444b-8418-26735bf844bb",
   "metadata": {},
   "source": [
    "# Standardizing train dataset"
   ]
  },
  {
   "cell_type": "code",
   "execution_count": 31,
   "id": "ffe05fd4-461a-41ed-9287-dece8ad875d4",
   "metadata": {},
   "outputs": [],
   "source": [
    "# We will be trainin our data on diff algo such as knn so scaling is necessary\n",
    "from sklearn.preprocessing import StandardScaler\n",
    "sc=StandardScaler()\n",
    "x_train1=sc.fit_transform(x_train) # we fit and transform x_train data\n",
    "x_test1=sc.fit_transform(x_test) # we transform only x_test data"
   ]
  },
  {
   "cell_type": "code",
   "execution_count": 32,
   "id": "d7e9adc4-1dff-4698-9a8b-68c407caee41",
   "metadata": {},
   "outputs": [
    {
     "data": {
      "text/plain": [
       "array([[ 1.18028886,  0.14416386, -0.29087307, ..., -0.53297742,\n",
       "         0.16928346, -0.29567228],\n",
       "       [-0.84598389,  0.98982547, -0.29087307, ...,  1.01346549,\n",
       "        -1.45144002, -0.29567228],\n",
       "       [-0.84598389,  0.14416386, -0.29087307, ...,  0.04947105,\n",
       "         1.02731353, -0.29567228],\n",
       "       ...,\n",
       "       [-0.84598389, -0.25641269, -0.29087307, ...,  0.04947105,\n",
       "         1.02731353, -1.48539186],\n",
       "       [ 1.18028886,  0.76728294, -0.29087307, ...,  1.82889336,\n",
       "         0.64596683,  2.8467392 ],\n",
       "       [-0.84598389, -0.79051476, -0.29087307, ...,  0.04947105,\n",
       "         0.64596683, -1.35607451]])"
      ]
     },
     "execution_count": 32,
     "metadata": {},
     "output_type": "execute_result"
    }
   ],
   "source": [
    "x_train1"
   ]
  },
  {
   "cell_type": "code",
   "execution_count": 33,
   "id": "6cdf3933-549c-4e25-a1a6-ade489edae7b",
   "metadata": {},
   "outputs": [
    {
     "data": {
      "text/plain": [
       "array([[-8.33410428e-01,  4.04234294e-01, -2.86743521e-01, ...,\n",
       "         1.64610457e+00,  1.01504399e+00,  5.47796997e-01],\n",
       "       [ 1.19782944e+00, -1.33348684e+00, -2.86743521e-01, ...,\n",
       "        -8.05314409e-01, -9.81581488e-01, -1.24270554e+00],\n",
       "       [-8.33410428e-01,  8.05246863e-01,  3.48743712e+00, ...,\n",
       "         1.21778344e+00,  6.34734373e-01, -1.24270554e+00],\n",
       "       ...,\n",
       "       [-8.33410428e-01,  3.22172483e-03, -2.86743521e-01, ...,\n",
       "        -4.48097969e-01, -9.81581488e-01,  1.84506627e-01],\n",
       "       [-8.33410428e-01,  5.82462102e-01, -2.86743521e-01, ...,\n",
       "         3.57755232e-01,  1.59347355e-01, -1.50219866e+00],\n",
       "       [ 1.19782944e+00, -1.24437293e+00, -2.86743521e-01, ...,\n",
       "        -1.39977627e-01, -1.93235552e+00, -1.24270554e+00]])"
      ]
     },
     "execution_count": 33,
     "metadata": {},
     "output_type": "execute_result"
    }
   ],
   "source": [
    "x_test1"
   ]
  },
  {
   "cell_type": "code",
   "execution_count": 34,
   "id": "45d697a9-c4d1-4819-a1d2-0d21eecff091",
   "metadata": {},
   "outputs": [],
   "source": [
    "from sklearn.linear_model import LogisticRegression\n",
    "from sklearn.svm import SVC\n",
    "from sklearn.ensemble import GradientBoostingClassifier,RandomForestClassifier\n",
    "from sklearn.neighbors import KNeighborsClassifier\n",
    "import xgboost as xgb"
   ]
  },
  {
   "cell_type": "code",
   "execution_count": 35,
   "id": "080d8100-9975-4084-9317-714c2bf84926",
   "metadata": {},
   "outputs": [],
   "source": [
    "# training model using Logistic Regression\n",
    "log_regression=LogisticRegression()\n",
    "log_regression.fit(x_train1,y_train)\n",
    "y_predict1=log_regression.predict(x_test1)"
   ]
  },
  {
   "cell_type": "code",
   "execution_count": 36,
   "id": "15b163d5-2111-4f9c-a412-34861a8eadbe",
   "metadata": {},
   "outputs": [],
   "source": [
    "# training model using Support Vector Classifier\n",
    "support_vector=SVC()\n",
    "support_vector.fit(x_train1,y_train)\n",
    "y_predict2=support_vector.predict(x_test1)"
   ]
  },
  {
   "cell_type": "code",
   "execution_count": 37,
   "id": "e950cbff-81ba-4499-9dab-c411b95247bc",
   "metadata": {},
   "outputs": [],
   "source": [
    "# training model using Gradient Booster Classifier\n",
    "gb=GradientBoostingClassifier()\n",
    "gb.fit(x_train,y_train)\n",
    "y_predict3=(gb.predict_proba(x_test)[:, 1] >= 0.4).astype(int)"
   ]
  },
  {
   "cell_type": "code",
   "execution_count": 38,
   "id": "26a3eb4f-ad8e-4cc2-a063-81dfaddb1c75",
   "metadata": {},
   "outputs": [],
   "source": [
    "# training model using Random Forest Classifier\n",
    "random_forest=RandomForestClassifier()\n",
    "random_forest.fit(x_train,y_train)\n",
    "y_predict4=(random_forest.predict_proba(x_test)[:, 1] >= 0.4).astype(int)"
   ]
  },
  {
   "cell_type": "code",
   "execution_count": 39,
   "id": "7efbc5d9-980d-4865-a878-44a99ba4fd72",
   "metadata": {},
   "outputs": [],
   "source": [
    "# training model using K Nearest Neighbour CLassifier(KNN)\n",
    "knn=KNeighborsClassifier(n_neighbors=7)\n",
    "knn.fit(x_train1,y_train)\n",
    "y_predict5=knn.predict(x_test1)"
   ]
  },
  {
   "cell_type": "code",
   "execution_count": 38,
   "id": "1330a101-93df-430a-b921-85e303f2633c",
   "metadata": {
    "scrolled": true
   },
   "outputs": [],
   "source": [
    "# training model using Extreme Boosting CLassifier (XGBoost)\n",
    "xgb_model=xgb.XGBClassifier(scale_pos_weight=3) \n",
    "# scale_pos weight = total number of 0/total number of 1 in diabetes,It is used to balance the dataset if they contain unstable data such as ours\n",
    "# But using 10.33 increases recall but decreases accuracy and overall balance so after testing scale_pos_weight from 2-8 the most balance result was at 3\n",
    "xgb_model.fit(x_train,y_train)\n",
    "y_predict6 = (xgb_model.predict_proba(x_test)[:, 1] >= 0.65).astype(int) \n",
    " # Using 0.65 as threshold i.e it finds probability and if the chance is >=0.65 then it is counted as 1. By default the threshold is 0.5 i.e., if prob is >0.5 -> diabetes and\n",
    "#  prob <0.5-> non-diabetic. so we tested threshold from 0.4 to 0.8 and the best outcome was at 0.65."
   ]
  },
  {
   "cell_type": "markdown",
   "id": "caea1e52-e44f-4b31-985d-be715d5b6e58",
   "metadata": {},
   "source": [
    "# Evaluating the algorithms"
   ]
  },
  {
   "cell_type": "code",
   "execution_count": 39,
   "id": "4053ec3c-a013-48a6-9d9c-1c67a90b0236",
   "metadata": {
    "scrolled": true
   },
   "outputs": [
    {
     "name": "stdout",
     "output_type": "stream",
     "text": [
      "Using Logistic Regression \n",
      "               precision    recall  f1-score   support\n",
      "\n",
      "           0       0.96      0.99      0.98     17534\n",
      "           1       0.86      0.63      0.73      1696\n",
      "\n",
      "    accuracy                           0.96     19230\n",
      "   macro avg       0.91      0.81      0.85     19230\n",
      "weighted avg       0.96      0.96      0.96     19230\n",
      " \n",
      "\n",
      "\n",
      "Using Support Vector Classifier \n",
      "               precision    recall  f1-score   support\n",
      "\n",
      "           0       0.96      1.00      0.98     17534\n",
      "           1       0.97      0.59      0.74      1696\n",
      "\n",
      "    accuracy                           0.96     19230\n",
      "   macro avg       0.97      0.79      0.86     19230\n",
      "weighted avg       0.96      0.96      0.96     19230\n",
      " \n",
      "\n",
      "\n",
      "Using Gradient Booster Classifier \n",
      "               precision    recall  f1-score   support\n",
      "\n",
      "           0       0.97      1.00      0.98     17534\n",
      "           1       0.94      0.70      0.80      1696\n",
      "\n",
      "    accuracy                           0.97     19230\n",
      "   macro avg       0.96      0.85      0.89     19230\n",
      "weighted avg       0.97      0.97      0.97     19230\n",
      " \n",
      "\n",
      "\n",
      "Using Random Forest Classifier \n",
      "               precision    recall  f1-score   support\n",
      "\n",
      "           0       0.97      0.99      0.98     17534\n",
      "           1       0.88      0.71      0.79      1696\n",
      "\n",
      "    accuracy                           0.97     19230\n",
      "   macro avg       0.93      0.85      0.89     19230\n",
      "weighted avg       0.97      0.97      0.96     19230\n",
      " \n",
      "\n",
      "\n",
      "Using KNN \n",
      "               precision    recall  f1-score   support\n",
      "\n",
      "           0       0.96      0.99      0.98     17534\n",
      "           1       0.91      0.61      0.73      1696\n",
      "\n",
      "    accuracy                           0.96     19230\n",
      "   macro avg       0.94      0.80      0.86     19230\n",
      "weighted avg       0.96      0.96      0.96     19230\n",
      " \n",
      "\n",
      "\n",
      "Using XGBoost \n",
      "               precision    recall  f1-score   support\n",
      "\n",
      "           0       0.97      0.99      0.98     17534\n",
      "           1       0.91      0.72      0.80      1696\n",
      "\n",
      "    accuracy                           0.97     19230\n",
      "   macro avg       0.94      0.85      0.89     19230\n",
      "weighted avg       0.97      0.97      0.97     19230\n",
      " \n",
      "\n",
      "\n"
     ]
    }
   ],
   "source": [
    "# Classification Report gives precision,recall,f1score and accuray.\n",
    "from sklearn.metrics import classification_report\n",
    "print(\"Using Logistic Regression \\n\",classification_report(y_test,y_predict1),\"\\n\\n\")\n",
    "print(\"Using Support Vector Classifier \\n\",classification_report(y_test,y_predict2),\"\\n\\n\")\n",
    "print(\"Using Gradient Booster Classifier \\n\",classification_report(y_test,y_predict3),\"\\n\\n\")\n",
    "print(\"Using Random Forest Classifier \\n\",classification_report(y_test,y_predict4),\"\\n\\n\")\n",
    "print(\"Using KNN \\n\",classification_report(y_test,y_predict5),\"\\n\\n\")\n",
    "print(\"Using XGBoost \\n\",classification_report(y_test,y_predict6),\"\\n\\n\")"
   ]
  },
  {
   "cell_type": "raw",
   "id": "b79c490a-fb80-4ce0-b171-550d26a25577",
   "metadata": {},
   "source": [
    "As we can see from above recall f1-score precision are better of xgboost so we will use XGBOOST algorithm."
   ]
  },
  {
   "cell_type": "code",
   "execution_count": 40,
   "id": "aa40df2e-57d3-4f6a-9039-97451f2e0abd",
   "metadata": {},
   "outputs": [],
   "source": [
    "# Joblib is used for creating a joblib file which is used in django to predict user inputed data.\n",
    "import joblib\n",
    "joblib.dump(xgb_model,'Diabetes_Predictor.joblib')\n",
    "model=joblib.load('Diabetes_Predictor.joblib')"
   ]
  },
  {
   "cell_type": "raw",
   "id": "b383bba1-f5a7-4e66-8078-4738fdcba653",
   "metadata": {},
   "source": [
    "# Testing model on different Inputs."
   ]
  },
  {
   "cell_type": "code",
   "execution_count": 41,
   "id": "52a710d8-d2e7-421f-857f-c9b0e5c1cce6",
   "metadata": {},
   "outputs": [
    {
     "data": {
      "text/plain": [
       "array([0])"
      ]
     },
     "execution_count": 41,
     "metadata": {},
     "output_type": "execute_result"
    }
   ],
   "source": [
    "model.predict([[0\t,80.0\t,0\t,1\t,4\t,25.19\t,6.6\t,140.0\t]]) #correct"
   ]
  },
  {
   "cell_type": "code",
   "execution_count": 42,
   "id": "e36a71fe-8384-4b63-a434-555f29bbcbb4",
   "metadata": {},
   "outputs": [
    {
     "data": {
      "text/plain": [
       "array([0])"
      ]
     },
     "execution_count": 42,
     "metadata": {},
     "output_type": "execute_result"
    }
   ],
   "source": [
    "model.predict([[1,\t76.0,\t1,\t1,\t1\t,20.14\t,4.8\t,155.0\t]]) #correct"
   ]
  },
  {
   "cell_type": "code",
   "execution_count": 43,
   "id": "488e47f1-92ec-433c-a9a1-27cdc43c9fa9",
   "metadata": {},
   "outputs": [
    {
     "data": {
      "text/plain": [
       "array([1])"
      ]
     },
     "execution_count": 43,
     "metadata": {},
     "output_type": "execute_result"
    }
   ],
   "source": [
    "model.predict([[0\t,44.0\t,0\t,0,\t4,\t19.31\t,6.5\t,200.0\t]]) #correct"
   ]
  },
  {
   "cell_type": "code",
   "execution_count": 44,
   "id": "458bc8cb-1d6a-4a71-89ff-ed864ca6640e",
   "metadata": {},
   "outputs": [
    {
     "data": {
      "text/plain": [
       "array([1])"
      ]
     },
     "execution_count": 44,
     "metadata": {},
     "output_type": "execute_result"
    }
   ],
   "source": [
    "model.predict([[0,\t61.0,\t0,\t0,\t5\t,39.36,\t8.3\t,140.0\t]]) #correct and working"
   ]
  },
  {
   "cell_type": "code",
   "execution_count": 45,
   "id": "c9376989-d659-4c9a-a6c7-205c56ba21d9",
   "metadata": {},
   "outputs": [
    {
     "data": {
      "text/plain": [
       "array([1])"
      ]
     },
     "execution_count": 45,
     "metadata": {},
     "output_type": "execute_result"
    }
   ],
   "source": [
    "model.predict([[0\t,36.0\t,0,\t0,\t1\t,32.27\t,6.2\t,220.0]]) #correct"
   ]
  },
  {
   "cell_type": "code",
   "execution_count": null,
   "id": "ec28c7e7-dfde-421b-85b2-8711b6037228",
   "metadata": {},
   "outputs": [],
   "source": []
  },
  {
   "cell_type": "code",
   "execution_count": null,
   "id": "75520170-2ffc-4ed9-9338-06504e341b15",
   "metadata": {},
   "outputs": [],
   "source": []
  }
 ],
 "metadata": {
  "kernelspec": {
   "display_name": "Python 3 (ipykernel)",
   "language": "python",
   "name": "python3"
  },
  "language_info": {
   "codemirror_mode": {
    "name": "ipython",
    "version": 3
   },
   "file_extension": ".py",
   "mimetype": "text/x-python",
   "name": "python",
   "nbconvert_exporter": "python",
   "pygments_lexer": "ipython3",
   "version": "3.12.3"
  }
 },
 "nbformat": 4,
 "nbformat_minor": 5
}
